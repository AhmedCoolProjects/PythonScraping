{
  "nbformat": 4,
  "nbformat_minor": 0,
  "metadata": {
    "colab": {
      "name": "ScrapingCompaniesEmailsForStage.ipynb",
      "provenance": [],
      "collapsed_sections": [],
      "authorship_tag": "ABX9TyMdDADbrc3p6MvOkMiv/SYe"
    },
    "kernelspec": {
      "name": "python3",
      "display_name": "Python 3"
    },
    "language_info": {
      "name": "python"
    }
  },
  "cells": [
    {
      "cell_type": "code",
      "metadata": {
        "id": "DAvM7qAHlv1C"
      },
      "source": [
        "import requests\n",
        "from bs4 import BeautifulSoup\n",
        "import csv"
      ],
      "execution_count": 1,
      "outputs": []
    },
    {
      "cell_type": "code",
      "metadata": {
        "id": "vx8GccvDpZSB"
      },
      "source": [
        "page_link = \"https://www.toutaumaroc.com/une-liste-de-2800-emails-rh-dentreprises-marocaines/\"\n",
        "headers = {\"User-Agent\":\n",
        "           \"Mozilla/5.0 (Windows NT 10.0; Win64; x64) AppleWebKit/537.36 (KHTML, like Gecko) Chrome/91.0.4472.77 Safari/537.36 Edg/91.0.864.37\"}\n",
        "page = requests.get(page_link,headers=headers)\n",
        "soup = BeautifulSoup(page.content, \"html.parser\")\n",
        "collection = list(soup.find_all(\"p\", {\"class\": None}))\n",
        "collection = collection #list of p"
      ],
      "execution_count": 2,
      "outputs": []
    },
    {
      "cell_type": "code",
      "metadata": {
        "id": "kzCeRg9Kl5Fy"
      },
      "source": [
        "final_data = []\n",
        "p_elements_list = []\n",
        "for i in range(len(collection)):\n",
        "  p_elements_list.append(list(collection[i].select(\"span\")))\n",
        "# to remove p tags for ads.\n",
        "p_elements_list_final = []\n",
        "for i in range(len(p_elements_list)):\n",
        "  if(len(p_elements_list[i]) > 1):\n",
        "    p_elements_list_final.append(p_elements_list[i])\n",
        "data_dict = {\n",
        "      \"company_name\":\"\",\n",
        "      \"company_emails\":[]\n",
        "  }\n",
        "for p_element in p_elements_list_final:\n",
        "  for span_element in p_element:\n",
        "    # if name company\n",
        "    if (\"@\" in span_element.get_text()):\n",
        "      data_dict[\"company_emails\"].append(span_element.get_text())\n",
        "    # if email company\n",
        "    else:\n",
        "      if len(data_dict[\"company_emails\"]) != 0:\n",
        "        data_dict_end = {\n",
        "            \"company_name\":data_dict[\"company_name\"],\n",
        "            \"company_emails\":data_dict[\"company_emails\"][0]\n",
        "        }\n",
        "        final_data.append(data_dict_end)\n",
        "        data_dict = {\n",
        "        \"company_name\":span_element.get_text(),\n",
        "        \"company_emails\":[]\n",
        "        }\n",
        "      else:\n",
        "        data_dict[\"company_name\"] = span_element.get_text()\n",
        "  data_dict_end = {\n",
        "      \"company_name\":data_dict[\"company_name\"],\n",
        "      \"company_emails\":\"\"\n",
        "      }\n",
        "  if len(data_dict[\"company_emails\"]) > 0:\n",
        "    data_dict_end[\"company_emails\"] = data_dict[\"company_emails\"][0]\n",
        "  final_data.append(data_dict_end)"
      ],
      "execution_count": 4,
      "outputs": []
    },
    {
      "cell_type": "code",
      "metadata": {
        "id": "2ySympz3mDdu",
        "colab": {
          "base_uri": "https://localhost:8080/"
        },
        "outputId": "168f57af-9346-4020-a331-7bd8963db165"
      },
      "source": [
        "keys = final_data[0].keys()\n",
        "with open('company_emails_stage_end.csv', 'w', newline='')  as my_csv_file:\n",
        "    dict_writer = csv.DictWriter(my_csv_file, fieldnames=keys)\n",
        "    dict_writer.writeheader()\n",
        "    dict_writer.writerows(final_data)\n",
        "print(\"done\")"
      ],
      "execution_count": 5,
      "outputs": [
        {
          "output_type": "stream",
          "text": [
            "done\n"
          ],
          "name": "stdout"
        }
      ]
    },
    {
      "cell_type": "code",
      "metadata": {
        "id": "eI6ym6w5MjUy"
      },
      "source": [
        ""
      ],
      "execution_count": null,
      "outputs": []
    }
  ]
}