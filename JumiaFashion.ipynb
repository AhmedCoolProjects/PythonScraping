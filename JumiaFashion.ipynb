{
  "nbformat": 4,
  "nbformat_minor": 0,
  "metadata": {
    "colab": {
      "name": "JumiaFashion.ipynb",
      "provenance": [],
      "collapsed_sections": [],
      "authorship_tag": "ABX9TyOUYBhL4t+KCCtXgfweWugC"
    },
    "kernelspec": {
      "name": "python3",
      "display_name": "Python 3"
    },
    "language_info": {
      "name": "python"
    }
  },
  "cells": [
    {
      "cell_type": "code",
      "metadata": {
        "id": "B48E5YgZ42JJ"
      },
      "source": [
        "import requests\n",
        "from bs4 import BeautifulSoup\n",
        "import json"
      ],
      "execution_count": 66,
      "outputs": []
    },
    {
      "cell_type": "code",
      "metadata": {
        "id": "NDlj_bFU37x_"
      },
      "source": [
        "page_link = \"https://www.jumia.ma/fashion-mode-homme/\"\n",
        "headers = {\"User-Agent\":\n",
        "           \"Mozilla/5.0 (Windows NT 10.0; Win64; x64) AppleWebKit/537.36 (KHTML, like Gecko) Chrome/91.0.4472.77 Safari/537.36 Edg/91.0.864.37\"}\n",
        "page = requests.get(page_link,headers=headers)\n",
        "soup = BeautifulSoup(page.content, \"html.parser\")\n",
        "collection = soup.find_all(\"article\", {\"class\": \"prd _fb col c-prd\"})\n",
        "final_data = []\n",
        "\n",
        "for product in collection:\n",
        "  product_dict = {\n",
        "      \"title\":list(product.a)[1].h3.get_text(),\n",
        "      \"image-url\":product.a.div.img[\"data-src\"],\n",
        "      \"price\":list(product.a)[1].div.get_text(),\n",
        "      \"rate-reviews\":None\n",
        "  }\n",
        "  if len(list(list(product.a)[1])) > 3:\n",
        "    product_dict[\"rate-reviews\"] = list(list(product.a)[1])[3].get_text()\n",
        "  final_data.append(product_dict)\n",
        "with open(\"jumia_products.json\",\"w\") as fp:\n",
        "  json.dump(final_data,fp)"
      ],
      "execution_count": 67,
      "outputs": []
    }
  ]
}