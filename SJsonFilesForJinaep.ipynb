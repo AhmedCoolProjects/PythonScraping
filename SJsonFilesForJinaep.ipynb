{
  "nbformat": 4,
  "nbformat_minor": 0,
  "metadata": {
    "colab": {
      "name": "SJsonFilesForJinaep.ipynb",
      "provenance": [],
      "collapsed_sections": [],
      "authorship_tag": "ABX9TyPvO5jUADkHgE4hnh+A4+3y",
      "include_colab_link": true
    },
    "kernelspec": {
      "name": "python3",
      "display_name": "Python 3"
    },
    "language_info": {
      "name": "python"
    }
  },
  "cells": [
    {
      "cell_type": "markdown",
      "metadata": {
        "id": "view-in-github",
        "colab_type": "text"
      },
      "source": [
        "<a href=\"https://colab.research.google.com/github/AhmedCoolProjects/PythonScraping/blob/main/SJsonFilesForJinaep.ipynb\" target=\"_parent\"><img src=\"https://colab.research.google.com/assets/colab-badge.svg\" alt=\"Open In Colab\"/></a>"
      ]
    },
    {
      "cell_type": "code",
      "metadata": {
        "id": "gABdpBn63A-L"
      },
      "source": [
        "import pandas as pd"
      ],
      "execution_count": null,
      "outputs": []
    },
    {
      "cell_type": "code",
      "metadata": {
        "colab": {
          "base_uri": "https://localhost:8080/"
        },
        "id": "CWN5KqqgKP5x",
        "outputId": "985fa00d-870f-471d-a709-f2ab5f6d1b71"
      },
      "source": [
        "semester = pd.read_excel('/content/MODULES_S2-converti.xlsx')\n",
        "semester.info()"
      ],
      "execution_count": null,
      "outputs": [
        {
          "output_type": "stream",
          "text": [
            "<class 'pandas.core.frame.DataFrame'>\n",
            "RangeIndex: 18 entries, 0 to 17\n",
            "Data columns (total 4 columns):\n",
            " #   Column                 Non-Null Count  Dtype  \n",
            "---  ------                 --------------  -----  \n",
            " 0   MODULES                8 non-null      object \n",
            " 1   ELEMENTS DE MODULES    18 non-null     object \n",
            " 2   % D'ELEMENT DU MODULE  18 non-null     float64\n",
            " 3   % DU MODULE            8 non-null      float64\n",
            "dtypes: float64(2), object(2)\n",
            "memory usage: 704.0+ bytes\n"
          ],
          "name": "stdout"
        }
      ]
    },
    {
      "cell_type": "code",
      "metadata": {
        "colab": {
          "base_uri": "https://localhost:8080/",
          "height": 347
        },
        "id": "RoGYi5fzKYbU",
        "outputId": "9e026f41-0046-4429-f258-24e3be3c2303"
      },
      "source": [
        "semester.head(10)"
      ],
      "execution_count": null,
      "outputs": [
        {
          "output_type": "execute_result",
          "data": {
            "text/html": [
              "<div>\n",
              "<style scoped>\n",
              "    .dataframe tbody tr th:only-of-type {\n",
              "        vertical-align: middle;\n",
              "    }\n",
              "\n",
              "    .dataframe tbody tr th {\n",
              "        vertical-align: top;\n",
              "    }\n",
              "\n",
              "    .dataframe thead th {\n",
              "        text-align: right;\n",
              "    }\n",
              "</style>\n",
              "<table border=\"1\" class=\"dataframe\">\n",
              "  <thead>\n",
              "    <tr style=\"text-align: right;\">\n",
              "      <th></th>\n",
              "      <th>MODULES</th>\n",
              "      <th>ELEMENTS DE MODULES</th>\n",
              "      <th>% D'ELEMENT DU MODULE</th>\n",
              "      <th>% DU MODULE</th>\n",
              "    </tr>\n",
              "  </thead>\n",
              "  <tbody>\n",
              "    <tr>\n",
              "      <th>0</th>\n",
              "      <td>M 2.1‐ INGENIERIE DOCUMENTAIRE 1</td>\n",
              "      <td>M 2.1.1‐ DESCRIPTION DES DOCUMENTS(MARC ET MET...</td>\n",
              "      <td>0.60</td>\n",
              "      <td>0.12</td>\n",
              "    </tr>\n",
              "    <tr>\n",
              "      <th>1</th>\n",
              "      <td>NaN</td>\n",
              "      <td>M 2.1.2‐ ANALYSE DOCUMENTAIRE(20)</td>\n",
              "      <td>0.40</td>\n",
              "      <td>NaN</td>\n",
              "    </tr>\n",
              "    <tr>\n",
              "      <th>2</th>\n",
              "      <td>M 2.2‐ TRAITEMENT DOCUMENTAIRE</td>\n",
              "      <td>M 2.2.1‐ SYSTEMES DE RECHERCHE DOCUMENTAIRE: M...</td>\n",
              "      <td>0.40</td>\n",
              "      <td>0.12</td>\n",
              "    </tr>\n",
              "    <tr>\n",
              "      <th>3</th>\n",
              "      <td>NaN</td>\n",
              "      <td>M 2.2.2‐ ANALYSE ET TRAITEMENT INFORMATISES DE...</td>\n",
              "      <td>0.60</td>\n",
              "      <td>NaN</td>\n",
              "    </tr>\n",
              "    <tr>\n",
              "      <th>4</th>\n",
              "      <td>M 2.3‐ MANAGEMENT POUR L'INGENIEUR</td>\n",
              "      <td>M 2.3.1‐ MANAGEMENT(24)</td>\n",
              "      <td>0.33</td>\n",
              "      <td>0.15</td>\n",
              "    </tr>\n",
              "    <tr>\n",
              "      <th>5</th>\n",
              "      <td>NaN</td>\n",
              "      <td>M 2.3.2‐ MARKETING(24)</td>\n",
              "      <td>0.33</td>\n",
              "      <td>NaN</td>\n",
              "    </tr>\n",
              "    <tr>\n",
              "      <th>6</th>\n",
              "      <td>NaN</td>\n",
              "      <td>M 2.3.3‐ COMPTABILITE GENERALE(24)</td>\n",
              "      <td>0.33</td>\n",
              "      <td>NaN</td>\n",
              "    </tr>\n",
              "    <tr>\n",
              "      <th>7</th>\n",
              "      <td>M 2.4‐ BASE DE DONNEES</td>\n",
              "      <td>M 2.4.1‐ INTRODUCTION AU SGBDR: LANGAGE SQL(16)</td>\n",
              "      <td>0.33</td>\n",
              "      <td>0.15</td>\n",
              "    </tr>\n",
              "    <tr>\n",
              "      <th>8</th>\n",
              "      <td>NaN</td>\n",
              "      <td>M 2..4.2‐ LE LANGAGE PL/SQL(16)</td>\n",
              "      <td>0.33</td>\n",
              "      <td>NaN</td>\n",
              "    </tr>\n",
              "    <tr>\n",
              "      <th>9</th>\n",
              "      <td>NaN</td>\n",
              "      <td>M 2.4.3‐ ADMINISTRATION DES BASES DE DONNEES S...</td>\n",
              "      <td>0.33</td>\n",
              "      <td>NaN</td>\n",
              "    </tr>\n",
              "  </tbody>\n",
              "</table>\n",
              "</div>"
            ],
            "text/plain": [
              "                              MODULES  ... % DU MODULE\n",
              "0    M 2.1‐ INGENIERIE DOCUMENTAIRE 1  ...        0.12\n",
              "1                                 NaN  ...         NaN\n",
              "2      M 2.2‐ TRAITEMENT DOCUMENTAIRE  ...        0.12\n",
              "3                                 NaN  ...         NaN\n",
              "4  M 2.3‐ MANAGEMENT POUR L'INGENIEUR  ...        0.15\n",
              "5                                 NaN  ...         NaN\n",
              "6                                 NaN  ...         NaN\n",
              "7              M 2.4‐ BASE DE DONNEES  ...        0.15\n",
              "8                                 NaN  ...         NaN\n",
              "9                                 NaN  ...         NaN\n",
              "\n",
              "[10 rows x 4 columns]"
            ]
          },
          "metadata": {
            "tags": []
          },
          "execution_count": 245
        }
      ]
    },
    {
      "cell_type": "code",
      "metadata": {
        "colab": {
          "base_uri": "https://localhost:8080/",
          "height": 347
        },
        "id": "E1Pt4Z-VdgcL",
        "outputId": "5099fa5d-1c94-4ab8-d6a9-c7e2de948b7c"
      },
      "source": [
        "# modifier les indices\n",
        "is_nan_ = semester['MODULES'].isnull()\n",
        "_indexs = []\n",
        "def fn(i):\n",
        "  if is_nan_[i]:\n",
        "    return _indexs[-1]\n",
        "  else:\n",
        "    return i\n",
        "for i in range(len(semester)):\n",
        "  x_ = fn(i)\n",
        "  _indexs.append(x_)\n",
        "__indexs = list(set(_indexs))\n",
        "for i,n in enumerate(_indexs):\n",
        "  _indexs[i] = __indexs.index(n)\n",
        "semester.index = _indexs\n",
        "semester.head(10)"
      ],
      "execution_count": null,
      "outputs": [
        {
          "output_type": "execute_result",
          "data": {
            "text/html": [
              "<div>\n",
              "<style scoped>\n",
              "    .dataframe tbody tr th:only-of-type {\n",
              "        vertical-align: middle;\n",
              "    }\n",
              "\n",
              "    .dataframe tbody tr th {\n",
              "        vertical-align: top;\n",
              "    }\n",
              "\n",
              "    .dataframe thead th {\n",
              "        text-align: right;\n",
              "    }\n",
              "</style>\n",
              "<table border=\"1\" class=\"dataframe\">\n",
              "  <thead>\n",
              "    <tr style=\"text-align: right;\">\n",
              "      <th></th>\n",
              "      <th>MODULES</th>\n",
              "      <th>ELEMENTS DE MODULES</th>\n",
              "      <th>% D'ELEMENT DU MODULE</th>\n",
              "      <th>% DU MODULE</th>\n",
              "    </tr>\n",
              "  </thead>\n",
              "  <tbody>\n",
              "    <tr>\n",
              "      <th>0</th>\n",
              "      <td>M 2.1‐ INGENIERIE DOCUMENTAIRE 1</td>\n",
              "      <td>M 2.1.1‐ DESCRIPTION DES DOCUMENTS(MARC ET MET...</td>\n",
              "      <td>0.60</td>\n",
              "      <td>0.12</td>\n",
              "    </tr>\n",
              "    <tr>\n",
              "      <th>0</th>\n",
              "      <td>NaN</td>\n",
              "      <td>M 2.1.2‐ ANALYSE DOCUMENTAIRE(20)</td>\n",
              "      <td>0.40</td>\n",
              "      <td>NaN</td>\n",
              "    </tr>\n",
              "    <tr>\n",
              "      <th>1</th>\n",
              "      <td>M 2.2‐ TRAITEMENT DOCUMENTAIRE</td>\n",
              "      <td>M 2.2.1‐ SYSTEMES DE RECHERCHE DOCUMENTAIRE: M...</td>\n",
              "      <td>0.40</td>\n",
              "      <td>0.12</td>\n",
              "    </tr>\n",
              "    <tr>\n",
              "      <th>1</th>\n",
              "      <td>NaN</td>\n",
              "      <td>M 2.2.2‐ ANALYSE ET TRAITEMENT INFORMATISES DE...</td>\n",
              "      <td>0.60</td>\n",
              "      <td>NaN</td>\n",
              "    </tr>\n",
              "    <tr>\n",
              "      <th>2</th>\n",
              "      <td>M 2.3‐ MANAGEMENT POUR L'INGENIEUR</td>\n",
              "      <td>M 2.3.1‐ MANAGEMENT(24)</td>\n",
              "      <td>0.33</td>\n",
              "      <td>0.15</td>\n",
              "    </tr>\n",
              "    <tr>\n",
              "      <th>2</th>\n",
              "      <td>NaN</td>\n",
              "      <td>M 2.3.2‐ MARKETING(24)</td>\n",
              "      <td>0.33</td>\n",
              "      <td>NaN</td>\n",
              "    </tr>\n",
              "    <tr>\n",
              "      <th>2</th>\n",
              "      <td>NaN</td>\n",
              "      <td>M 2.3.3‐ COMPTABILITE GENERALE(24)</td>\n",
              "      <td>0.33</td>\n",
              "      <td>NaN</td>\n",
              "    </tr>\n",
              "    <tr>\n",
              "      <th>3</th>\n",
              "      <td>M 2.4‐ BASE DE DONNEES</td>\n",
              "      <td>M 2.4.1‐ INTRODUCTION AU SGBDR: LANGAGE SQL(16)</td>\n",
              "      <td>0.33</td>\n",
              "      <td>0.15</td>\n",
              "    </tr>\n",
              "    <tr>\n",
              "      <th>3</th>\n",
              "      <td>NaN</td>\n",
              "      <td>M 2..4.2‐ LE LANGAGE PL/SQL(16)</td>\n",
              "      <td>0.33</td>\n",
              "      <td>NaN</td>\n",
              "    </tr>\n",
              "    <tr>\n",
              "      <th>3</th>\n",
              "      <td>NaN</td>\n",
              "      <td>M 2.4.3‐ ADMINISTRATION DES BASES DE DONNEES S...</td>\n",
              "      <td>0.33</td>\n",
              "      <td>NaN</td>\n",
              "    </tr>\n",
              "  </tbody>\n",
              "</table>\n",
              "</div>"
            ],
            "text/plain": [
              "                              MODULES  ... % DU MODULE\n",
              "0    M 2.1‐ INGENIERIE DOCUMENTAIRE 1  ...        0.12\n",
              "0                                 NaN  ...         NaN\n",
              "1      M 2.2‐ TRAITEMENT DOCUMENTAIRE  ...        0.12\n",
              "1                                 NaN  ...         NaN\n",
              "2  M 2.3‐ MANAGEMENT POUR L'INGENIEUR  ...        0.15\n",
              "2                                 NaN  ...         NaN\n",
              "2                                 NaN  ...         NaN\n",
              "3              M 2.4‐ BASE DE DONNEES  ...        0.15\n",
              "3                                 NaN  ...         NaN\n",
              "3                                 NaN  ...         NaN\n",
              "\n",
              "[10 rows x 4 columns]"
            ]
          },
          "metadata": {
            "tags": []
          },
          "execution_count": 246
        }
      ]
    },
    {
      "cell_type": "code",
      "metadata": {
        "colab": {
          "base_uri": "https://localhost:8080/",
          "height": 347
        },
        "id": "eHOGPLo9wbEc",
        "outputId": "03cb8995-eac0-40b9-e05e-cf719fed31be"
      },
      "source": [
        "semester.head(10)"
      ],
      "execution_count": null,
      "outputs": [
        {
          "output_type": "execute_result",
          "data": {
            "text/html": [
              "<div>\n",
              "<style scoped>\n",
              "    .dataframe tbody tr th:only-of-type {\n",
              "        vertical-align: middle;\n",
              "    }\n",
              "\n",
              "    .dataframe tbody tr th {\n",
              "        vertical-align: top;\n",
              "    }\n",
              "\n",
              "    .dataframe thead th {\n",
              "        text-align: right;\n",
              "    }\n",
              "</style>\n",
              "<table border=\"1\" class=\"dataframe\">\n",
              "  <thead>\n",
              "    <tr style=\"text-align: right;\">\n",
              "      <th></th>\n",
              "      <th>MODULES</th>\n",
              "      <th>ELEMENTS DE MODULES</th>\n",
              "      <th>% D'ELEMENT DU MODULE</th>\n",
              "      <th>% DU MODULE</th>\n",
              "    </tr>\n",
              "  </thead>\n",
              "  <tbody>\n",
              "    <tr>\n",
              "      <th>0</th>\n",
              "      <td>M 2.1‐ INGENIERIE DOCUMENTAIRE 1</td>\n",
              "      <td>M 2.1.1‐ DESCRIPTION DES DOCUMENTS(MARC ET MET...</td>\n",
              "      <td>0.60</td>\n",
              "      <td>0.12</td>\n",
              "    </tr>\n",
              "    <tr>\n",
              "      <th>0</th>\n",
              "      <td>NaN</td>\n",
              "      <td>M 2.1.2‐ ANALYSE DOCUMENTAIRE(20)</td>\n",
              "      <td>0.40</td>\n",
              "      <td>NaN</td>\n",
              "    </tr>\n",
              "    <tr>\n",
              "      <th>1</th>\n",
              "      <td>M 2.2‐ TRAITEMENT DOCUMENTAIRE</td>\n",
              "      <td>M 2.2.1‐ SYSTEMES DE RECHERCHE DOCUMENTAIRE: M...</td>\n",
              "      <td>0.40</td>\n",
              "      <td>0.12</td>\n",
              "    </tr>\n",
              "    <tr>\n",
              "      <th>1</th>\n",
              "      <td>NaN</td>\n",
              "      <td>M 2.2.2‐ ANALYSE ET TRAITEMENT INFORMATISES DE...</td>\n",
              "      <td>0.60</td>\n",
              "      <td>NaN</td>\n",
              "    </tr>\n",
              "    <tr>\n",
              "      <th>2</th>\n",
              "      <td>M 2.3‐ MANAGEMENT POUR L'INGENIEUR</td>\n",
              "      <td>M 2.3.1‐ MANAGEMENT(24)</td>\n",
              "      <td>0.33</td>\n",
              "      <td>0.15</td>\n",
              "    </tr>\n",
              "    <tr>\n",
              "      <th>2</th>\n",
              "      <td>NaN</td>\n",
              "      <td>M 2.3.2‐ MARKETING(24)</td>\n",
              "      <td>0.33</td>\n",
              "      <td>NaN</td>\n",
              "    </tr>\n",
              "    <tr>\n",
              "      <th>2</th>\n",
              "      <td>NaN</td>\n",
              "      <td>M 2.3.3‐ COMPTABILITE GENERALE(24)</td>\n",
              "      <td>0.33</td>\n",
              "      <td>NaN</td>\n",
              "    </tr>\n",
              "    <tr>\n",
              "      <th>3</th>\n",
              "      <td>M 2.4‐ BASE DE DONNEES</td>\n",
              "      <td>M 2.4.1‐ INTRODUCTION AU SGBDR: LANGAGE SQL(16)</td>\n",
              "      <td>0.33</td>\n",
              "      <td>0.15</td>\n",
              "    </tr>\n",
              "    <tr>\n",
              "      <th>3</th>\n",
              "      <td>NaN</td>\n",
              "      <td>M 2..4.2‐ LE LANGAGE PL/SQL(16)</td>\n",
              "      <td>0.33</td>\n",
              "      <td>NaN</td>\n",
              "    </tr>\n",
              "    <tr>\n",
              "      <th>3</th>\n",
              "      <td>NaN</td>\n",
              "      <td>M 2.4.3‐ ADMINISTRATION DES BASES DE DONNEES S...</td>\n",
              "      <td>0.33</td>\n",
              "      <td>NaN</td>\n",
              "    </tr>\n",
              "  </tbody>\n",
              "</table>\n",
              "</div>"
            ],
            "text/plain": [
              "                              MODULES  ... % DU MODULE\n",
              "0    M 2.1‐ INGENIERIE DOCUMENTAIRE 1  ...        0.12\n",
              "0                                 NaN  ...         NaN\n",
              "1      M 2.2‐ TRAITEMENT DOCUMENTAIRE  ...        0.12\n",
              "1                                 NaN  ...         NaN\n",
              "2  M 2.3‐ MANAGEMENT POUR L'INGENIEUR  ...        0.15\n",
              "2                                 NaN  ...         NaN\n",
              "2                                 NaN  ...         NaN\n",
              "3              M 2.4‐ BASE DE DONNEES  ...        0.15\n",
              "3                                 NaN  ...         NaN\n",
              "3                                 NaN  ...         NaN\n",
              "\n",
              "[10 rows x 4 columns]"
            ]
          },
          "metadata": {
            "tags": []
          },
          "execution_count": 247
        }
      ]
    },
    {
      "cell_type": "code",
      "metadata": {
        "colab": {
          "base_uri": "https://localhost:8080/"
        },
        "id": "umV8m4ycpmoi",
        "outputId": "3dac4598-531c-4b25-cbd2-3769bec311bf"
      },
      "source": [
        "# modifier les noms des colonnes\n",
        "semester.columns = ['module','el-module','coef_el-module','coef_module']\n",
        "# separer les modules et les elements de modules.\n",
        "module_df = semester[['module','coef_module']].dropna()\n",
        "el_module_df = semester[['el-module','coef_el-module']]\n",
        "# ajouter la colonne _id, modefier les noms et les colonnes\n",
        "module_df.columns = ['name','coef']\n",
        "module_df['_id'] = list(map(lambda x: x[:5], module_df.name))\n",
        "module_df['name'] = list(map(lambda x: x[7:], module_df.name))\n",
        "el_module_df.columns = ['name','coef']\n",
        "el_module_df['_id'] = list(map(lambda x: x[:7], el_module_df.name))\n",
        "el_module_df['name'] = list(map(lambda x: x[9:], el_module_df.name))\n",
        "# creer les listes module_list et el_module_list\n",
        "module_list,el_module_list = [], []\n",
        "for i in module_df.index:\n",
        "  module_list.append(module_df.loc[i].values.tolist())\n",
        "  el_module_list.append(el_module_df.loc[i].values.tolist())\n",
        "print(module_list[0])\n",
        "print(el_module_list[0])\n",
        "print('---------')\n",
        "print(len(module_list),len(el_module_list))"
      ],
      "execution_count": null,
      "outputs": [
        {
          "output_type": "stream",
          "text": [
            "['INGENIERIE DOCUMENTAIRE 1', 0.12, 'M 2.1']\n",
            "[['DESCRIPTION DES DOCUMENTS(MARC ET METADONNEES)(28)', 0.6, 'M 2.1.1'], ['ANALYSE DOCUMENTAIRE(20)', 0.4, 'M 2.1.2']]\n",
            "---------\n",
            "8 8\n"
          ],
          "name": "stdout"
        },
        {
          "output_type": "stream",
          "text": [
            "/usr/local/lib/python3.7/dist-packages/ipykernel_launcher.py:11: SettingWithCopyWarning: \n",
            "A value is trying to be set on a copy of a slice from a DataFrame.\n",
            "Try using .loc[row_indexer,col_indexer] = value instead\n",
            "\n",
            "See the caveats in the documentation: https://pandas.pydata.org/pandas-docs/stable/user_guide/indexing.html#returning-a-view-versus-a-copy\n",
            "  # This is added back by InteractiveShellApp.init_path()\n",
            "/usr/local/lib/python3.7/dist-packages/ipykernel_launcher.py:12: SettingWithCopyWarning: \n",
            "A value is trying to be set on a copy of a slice from a DataFrame.\n",
            "Try using .loc[row_indexer,col_indexer] = value instead\n",
            "\n",
            "See the caveats in the documentation: https://pandas.pydata.org/pandas-docs/stable/user_guide/indexing.html#returning-a-view-versus-a-copy\n",
            "  if sys.path[0] == '':\n"
          ],
          "name": "stderr"
        }
      ]
    },
    {
      "cell_type": "code",
      "metadata": {
        "id": "IpaTO-6988Vt"
      },
      "source": [
        "import json\n",
        "s2 = {\n",
        "    \"modules\":module_list,\n",
        "    \"el_modules\":el_module_list\n",
        "}\n",
        "with open(\"s2.json\",\"w\") as fl:\n",
        "  json.dump(s2,fl)"
      ],
      "execution_count": null,
      "outputs": []
    }
  ]
}