{
  "nbformat": 4,
  "nbformat_minor": 0,
  "metadata": {
    "colab": {
      "name": "ScrapingAvitoCarsData.ipynb",
      "provenance": [],
      "authorship_tag": "ABX9TyMUKaqM6jlkQUo1B6PKYllF",
      "include_colab_link": true
    },
    "kernelspec": {
      "name": "python3",
      "display_name": "Python 3"
    },
    "language_info": {
      "name": "python"
    }
  },
  "cells": [
    {
      "cell_type": "markdown",
      "metadata": {
        "id": "view-in-github",
        "colab_type": "text"
      },
      "source": [
        "<a href=\"https://colab.research.google.com/github/AhmedCoolProjects/PythonScraping/blob/main/ScrapingAvitoCarsData.ipynb\" target=\"_parent\"><img src=\"https://colab.research.google.com/assets/colab-badge.svg\" alt=\"Open In Colab\"/></a>"
      ]
    },
    {
      "cell_type": "code",
      "metadata": {
        "id": "jWGJ5wQYLLR-"
      },
      "source": [
        "import requests as rq\n",
        "from bs4 import BeautifulSoup\n",
        "import csv"
      ],
      "execution_count": 4,
      "outputs": []
    },
    {
      "cell_type": "code",
      "metadata": {
        "id": "LLsTJz63L6Ey"
      },
      "source": [
        "def starting(page_link):\n",
        "  headers = {\"User-Agent\":\n",
        "            \"Mozilla/5.0 (Windows NT 10.0; Win64; x64) AppleWebKit/537.36 (KHTML, like Gecko) Chrome/91.0.4472.77 Safari/537.36 Edg/91.0.864.37\"}\n",
        "  page = rq.get(page_link,headers=headers)\n",
        "  soup = BeautifulSoup(page.content, \"html.parser\")\n",
        "  AVITO_STORE_DOMAIN_PREFIX = \"https://www.avito.ma\"\n",
        "  salers_i = list(soup.find_all(\"a\",{\"id\":\"shop_link\"}))\n",
        "  selers_small = list(soup.find_all(\"div\",{\"class\":\"ctext3\"}))\n",
        "  # getting avito store links\n",
        "  avito_stor_links = [AVITO_STORE_DOMAIN_PREFIX + i['href'] for i in salers_i]\n",
        "  # getting store names\n",
        "  stores_names = [i.get_text() for i in salers_i]\n",
        "  # getting store city\n",
        "  stores_cities = [i.select(\"small\")[1].get_text() for i in selers_small]\n",
        "  # getting nbr of articals for each seler\n",
        "  selers_articals_nbr = [int(i.select('i')[1].get_text().split('\\xa0')[0]) for i in selers_small]\n",
        "  return avito_stor_links,stores_names,stores_cities,selers_articals_nbr"
      ],
      "execution_count": 162,
      "outputs": []
    },
    {
      "cell_type": "code",
      "metadata": {
        "id": "h8wEZUjYGmZP"
      },
      "source": [
        "avito_stor_links,stores_names,stores_cities,selers_articals_nbr = starting(\"https://www.avito.ma/fr/boutiques/maroc/voitures-%C3%A0_vendre\")"
      ],
      "execution_count": 163,
      "outputs": []
    },
    {
      "cell_type": "code",
      "metadata": {
        "id": "GUUuotQJaWJo"
      },
      "source": [
        "# function to map all the store links and get their infos\n",
        "def getStorInfoByLink(index_):\n",
        "  store_page = rq.get(avito_stor_links[index_],headers=headers)\n",
        "  store_soup = BeautifulSoup(store_page.content, \"html.parser\")\n",
        "  if store_soup.find(\"div\",{\"class\":\"mtl mbs\"}):\n",
        "    store_address = store_soup.find(\"div\",{\"class\":\"mtl mbs\"}).get_text().replace('\\n',\"\")\n",
        "  else:\n",
        "    store_address = None\n",
        "  store_bien = store_soup.find('h2',{'class':\" d-inline-block text-truncate\"}).select('a')[0].get_text()\n",
        "  if ( store_soup.find('span',{\"class\":'price_value'})):\n",
        "    store_price = store_soup.find('span',{\"class\":'price_value'}).get_text() + \" DH\" \n",
        "  else:\n",
        "    store_price = None\n",
        "  saler_info = {\"le_vendeur\":stores_names[index_],\n",
        "    'le_montant_de_la_vente':store_price,\n",
        "    \"le_bien_vendu\":store_bien,\n",
        "    \"l_adresse_du_vendeur\":store_address,\n",
        "    \"la_ville\":stores_cities[index_],\n",
        "    \"vendeur_ecommorce_link\":avito_stor_links[index_],\n",
        "    \"vendeur_nbr_d_article\":selers_articals_nbr[index_]\n",
        "    }\n",
        "  return saler_info\n"
      ],
      "execution_count": 164,
      "outputs": []
    },
    {
      "cell_type": "code",
      "metadata": {
        "id": "yqpsz7PJoD49"
      },
      "source": [
        "final_array = []\n",
        "for i in range(len(avito_stor_links)):\n",
        "  if i != 35 or i != 45:\n",
        "    final_array.append(getStorInfoByLink(i))\n",
        "  print(i)"
      ],
      "execution_count": null,
      "outputs": []
    },
    {
      "cell_type": "code",
      "metadata": {
        "id": "ye1X_hNnGFiV"
      },
      "source": [
        "avito_stor_links,stores_names,stores_cities,selers_articals_nbr = starting(\"https://www.avito.ma/fr/boutiques/maroc/voitures-%C3%A0_vendre?o=2\")"
      ],
      "execution_count": 168,
      "outputs": []
    },
    {
      "cell_type": "code",
      "metadata": {
        "id": "FTHjYexQGyA8"
      },
      "source": [
        "for i in range(len(avito_stor_links)):\n",
        "  final_array.append(getStorInfoByLink(i))\n",
        "  print(i)"
      ],
      "execution_count": null,
      "outputs": []
    },
    {
      "cell_type": "code",
      "metadata": {
        "id": "H8CPCO6OHZat"
      },
      "source": [
        "avito_stor_links,stores_names,stores_cities,selers_articals_nbr = starting(\"https://www.avito.ma/fr/boutiques/maroc/voitures-%C3%A0_vendre?o=3\")"
      ],
      "execution_count": null,
      "outputs": []
    },
    {
      "cell_type": "code",
      "metadata": {
        "id": "g08zJZ1YHceg"
      },
      "source": [
        "for i in range(len(avito_stor_links)):\n",
        "  final_array.append(getStorInfoByLink(i))\n",
        "  print(i)"
      ],
      "execution_count": null,
      "outputs": []
    },
    {
      "cell_type": "code",
      "metadata": {
        "id": "vpfWulA_CnkO"
      },
      "source": [
        "keys = final_array[0].keys()\n",
        "with open('voitures.csv', 'w', newline='')  as my_csv_file:\n",
        "    dict_writer = csv.DictWriter(my_csv_file, fieldnames=keys)\n",
        "    dict_writer.writeheader()\n",
        "    dict_writer.writerows(final_array)\n",
        "print(\"done\")"
      ],
      "execution_count": null,
      "outputs": []
    },
    {
      "cell_type": "code",
      "metadata": {
        "id": "wx5IBeR3IPj6"
      },
      "source": [
        "import pandas as pd\n",
        "df = pd.read_csv('/content/voitures.csv')\n",
        "df.columns = [i.replace('_',' ') for i in df.columns]\n",
        "df.dropna(inplace=True)\n",
        "df.to_csv('final_voitures.csv')"
      ],
      "execution_count": 173,
      "outputs": []
    }
  ]
}