{
  "nbformat": 4,
  "nbformat_minor": 0,
  "metadata": {
    "colab": {
      "name": "SendMailsWithAttachmentsPDF.ipynb",
      "provenance": [],
      "collapsed_sections": [],
      "authorship_tag": "ABX9TyNwWBwtrE3Y7Z3F695gdaqu"
    },
    "kernelspec": {
      "name": "python3",
      "display_name": "Python 3"
    },
    "language_info": {
      "name": "python"
    }
  },
  "cells": [
    {
      "cell_type": "code",
      "metadata": {
        "id": "I2EbTNYaCVyM"
      },
      "source": [
        "import smtplib\n",
        "from email.mime.multipart import MIMEMultipart\n",
        "from email.mime.text import MIMEText\n",
        "from email.mime.base import MIMEBase\n",
        "from email import encoders"
      ],
      "execution_count": 79,
      "outputs": []
    },
    {
      "cell_type": "code",
      "metadata": {
        "id": "2brVOdBVDVEO"
      },
      "source": [
        "mail_content = \"\"\"\\\n",
        "<html>\n",
        "  <head></head>\n",
        "  <body>\n",
        "    <p>Bonjour,<br>\n",
        "Je suis Ahmed Bargady, étudiant ingénieur des données et d'information en première année à l'ESI (l'Ecole des Sciences de l'Information) à Rabat.<br>\n",
        "Je suis à la recherche d'un stage d'initiation d'un mois ou deux à partir du <strong>Juillet/Août 2021</strong>, Dans ces domaines:\n",
        "    </p>\n",
        "    <ul>\n",
        "      <li><strong>\n",
        "      datascience, dataanalysis, machinelearning, machinelearning, webdevelopement, Databases_Management, Cloud_computig, AI\n",
        "      </strong></li> \n",
        "    </ul>\n",
        "    <p>\n",
        "Je suis ouvert à toute proposition qui peut m'aider à appliquer mes connaissances,<br>\n",
        "développer mes compétances et également à se familiariser avec le monde du travail.<br>\n",
        "N'hésitez pas de me contacter sur:<br>\n",
        "    </p>\n",
        "✉️ email : <strong>bargadyahmed2000@gmail.com</strong><br> \n",
        "📞 phone: <strong>+212 672628744</strong>\n",
        "    <p>\n",
        "Merci beaucoup d'avoir pris le temps de lire mon mail.<br>\n",
        "Cordialement\n",
        "    </p>\n",
        "  </body>\n",
        "</html>\n",
        "\"\"\"\n",
        "# remplacer vos informations"
      ],
      "execution_count": 80,
      "outputs": []
    },
    {
      "cell_type": "code",
      "metadata": {
        "id": "71ny_gvJEht7"
      },
      "source": [
        "my_email = ''\n",
        "my_email_password = '' # à créer\n",
        "company_email = '' \n",
        "# remplacer votre mail et numero de tele\n",
        "# pour my_email_password, utiliser un mot de passe d'application et pas votre mot de passe actuel, pour votre securite.\n",
        "# chercher comment creer un cli d'application pour votre email, vous devez passer par les 2 stypes de verification."
      ],
      "execution_count": 81,
      "outputs": []
    },
    {
      "cell_type": "code",
      "metadata": {
        "id": "T7d24PL-G88v"
      },
      "source": [
        "message = MIMEMultipart()\n",
        "message['From'] = my_email\n",
        "message['To'] = company_email\n",
        "message['Subject'] = \"Recherche d'un stage\""
      ],
      "execution_count": 82,
      "outputs": []
    },
    {
      "cell_type": "code",
      "metadata": {
        "id": "CBeoLjR7HmYK"
      },
      "source": [
        "message.attach(MIMEText(mail_content, 'html'))\n",
        "my_cv_file = ''\n",
        "my_cv_file_bn = open(my_cv_file, 'rb')\n",
        "payload = MIMEBase('application', 'octate-stream', Name=\"CV.pdf\")\n",
        "payload.set_payload((my_cv_file_bn).read())\n",
        "encoders.encode_base64(payload)"
      ],
      "execution_count": 83,
      "outputs": []
    },
    {
      "cell_type": "code",
      "metadata": {
        "id": "m4084tvBIarF"
      },
      "source": [
        "payload.add_header('Content-Decomposition', 'attachment')\n",
        "message.attach(payload)"
      ],
      "execution_count": 84,
      "outputs": []
    },
    {
      "cell_type": "code",
      "metadata": {
        "id": "F2Aecrf8IlE0",
        "colab": {
          "base_uri": "https://localhost:8080/"
        },
        "outputId": "22e15408-4681-46e0-906a-543e0f44e474"
      },
      "source": [
        "session = smtplib.SMTP('smtp.gmail.com', 587)\n",
        "session.starttls()\n",
        "session.login(my_email, my_email_password)\n",
        "text = message.as_string()\n",
        "session.sendmail(my_email, company_email, text)\n",
        "session.quit()\n",
        "print('Mail Sent')"
      ],
      "execution_count": 85,
      "outputs": [
        {
          "output_type": "stream",
          "text": [
            "Mail Sent\n"
          ],
          "name": "stdout"
        }
      ]
    },
    {
      "cell_type": "code",
      "metadata": {
        "id": "Qvu7tWJcai1H"
      },
      "source": [
        ""
      ],
      "execution_count": null,
      "outputs": []
    }
  ]
}