{
  "nbformat": 4,
  "nbformat_minor": 0,
  "metadata": {
    "colab": {
      "name": "Scraping9alamiPDFs.ipynb",
      "provenance": [],
      "collapsed_sections": [],
      "authorship_tag": "ABX9TyP5vMXqyxfnb8dUE9vsfE2p",
      "include_colab_link": true
    },
    "kernelspec": {
      "name": "python3",
      "display_name": "Python 3"
    },
    "language_info": {
      "name": "python"
    }
  },
  "cells": [
    {
      "cell_type": "markdown",
      "metadata": {
        "id": "view-in-github",
        "colab_type": "text"
      },
      "source": [
        "<a href=\"https://colab.research.google.com/github/AhmedCoolProjects/PythonScraping/blob/main/Scraping9alamiPDFs.ipynb\" target=\"_parent\"><img src=\"https://colab.research.google.com/assets/colab-badge.svg\" alt=\"Open In Colab\"/></a>"
      ]
    },
    {
      "cell_type": "code",
      "metadata": {
        "id": "YURXG6sAI4Gq"
      },
      "source": [
        "import requests\n",
        "from bs4 import BeautifulSoup\n",
        "import json\n",
        "from uuid import uuid1"
      ],
      "execution_count": null,
      "outputs": []
    },
    {
      "cell_type": "code",
      "metadata": {
        "id": "z6AIkWDlJK2O"
      },
      "source": [
        "page_link = \"https://9alami.info/2015/04/02/production-ecrite-a-lexamen-regional-1bac-de-francais/\"\n",
        "headers = {\"User-Agent\":\n",
        "           \"Mozilla/5.0 (Windows NT 10.0; Win64; x64) AppleWebKit/537.36 (KHTML, like Gecko) Chrome/91.0.4472.77 Safari/537.36 Edg/91.0.864.37\"}\n",
        "page = requests.get(page_link,headers=headers)\n",
        "soup = BeautifulSoup(page.content, \"html.parser\")"
      ],
      "execution_count": null,
      "outputs": []
    },
    {
      "cell_type": "code",
      "metadata": {
        "colab": {
          "base_uri": "https://localhost:8080/"
        },
        "id": "jmSWvKVKJyX4",
        "outputId": "bd9371d9-235e-4f67-945c-619745b29eb8"
      },
      "source": [
        "collection = soup.find(\"table\",{\"id\":\"newspaper-b\"})\n",
        "my_list = list(collection.tbody)\n",
        "my_final = []\n",
        "# print(my_list[1].td.a['href'])\n",
        "print(my_list[0] == \"\\n\")\n",
        "NoneType = type(None)\n",
        "for i in my_list:\n",
        "  if i != \"\\n\" and my_list.index(i) not in [43,45]:\n",
        "    item_title = i.td.a[\"href\"]\n",
        "    item_title = item_title.split(\"/\")[-1]\n",
        "    item_title = item_title.replace(\"-\",\" \")\n",
        "    item_title = item_title.split(\".\")[0]\n",
        "    my_item = {\n",
        "        \"_id\":str(uuid1()),\n",
        "        \"title\":item_title,\n",
        "        \"link\":i.td.a[\"href\"],\n",
        "        \"done_emails\":[]\n",
        "    }\n",
        "    my_final.append(my_item)\n",
        "with open(\"frdata.json\",\"w\") as fp:\n",
        "  json.dump(my_final,fp)\n",
        "print(\"done\")\n",
        "\n"
      ],
      "execution_count": null,
      "outputs": [
        {
          "output_type": "stream",
          "text": [
            "True\n",
            "done\n"
          ],
          "name": "stdout"
        }
      ]
    },
    {
      "cell_type": "code",
      "metadata": {
        "id": "cIFVAi3iKKqs"
      },
      "source": [
        ""
      ],
      "execution_count": null,
      "outputs": []
    }
  ]
}